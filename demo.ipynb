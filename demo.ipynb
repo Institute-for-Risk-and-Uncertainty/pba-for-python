{
 "cells": [
  {
   "cell_type": "markdown",
   "metadata": {},
   "source": [
    "# PBA for Python demo\n",
    "\n",
    "PBA can be imported in the normal way"
   ]
  },
  {
   "cell_type": "code",
   "execution_count": 1,
   "metadata": {},
   "outputs": [],
   "source": [
    "import pba"
   ]
  },
  {
   "cell_type": "markdown",
   "metadata": {},
   "source": [
    "## Intervals\n",
    "Intervals can be specified using `pba.Interval` or `pba.I`\n",
    "Arithmetic operations (+,-,*,/) can be performed on intervals\n",
    "Outputted intervals can be printed"
   ]
  },
  {
   "cell_type": "code",
   "execution_count": 3,
   "metadata": {},
   "outputs": [
    {
     "name": "stdout",
     "output_type": "stream",
     "text": [
      "Interval [3, 5]\n",
      "Interval [-20, -9]\n",
      "Interval [50, 160]\n",
      "Interval [0.15, 0.4]\n"
     ]
    }
   ],
   "source": [
    "a = pba.Interval(0,1)\n",
    "b = pba.I(3,4)\n",
    "c = pba.I(10,20)\n",
    "d = pba.Interval(5,8)\n",
    "\n",
    "e = a+b\n",
    "f = b-2\n",
    "g = c*d\n",
    "h = d/c\n",
    "\n",
    "print(e)\n",
    "print(f)\n",
    "print(g)\n",
    "print(h)"
   ]
  },
  {
   "cell_type": "markdown",
   "metadata": {},
   "source": [
    "## p-boxes\n",
    "P-boxes can be specified by using a distribution name with interval inputs"
   ]
  },
  {
   "cell_type": "code",
   "execution_count": 4,
   "metadata": {},
   "outputs": [],
   "source": [
    "x = pba.N(pba.I(-1,1),1)"
   ]
  },
  {
   "cell_type": "markdown",
   "metadata": {},
   "source": [
    "P-boxes can be visualised using show() method"
   ]
  },
  {
   "cell_type": "code",
   "execution_count": 5,
   "metadata": {},
   "outputs": [
    {
     "data": {
      "image/png": "[encoded data removed]",
      "text/plain": [
       "<Figure size 432x288 with 1 Axes>"
      ]
     },
     "metadata": {
      "needs_background": "light"
     },
     "output_type": "display_data"
    }
   ],
   "source": [
    "x.show()"
   ]
  },
  {
   "cell_type": "markdown",
   "metadata": {},
   "source": [
    "Arithmetic can be performed between p-boxes and intervals "
   ]
  },
  {
   "cell_type": "code",
   "execution_count": 13,
   "metadata": {},
   "outputs": [
    {
     "data": {
      "image/png": "[encoded data removed]",
      "text/plain": [
       "<Figure size 432x288 with 1 Axes>"
      ]
     },
     "metadata": {
      "needs_background": "light"
     },
     "output_type": "display_data"
    }
   ],
   "source": [
    "y = pba.U(pba.I(1,2),pba.I(3,4))\n",
    "w = y+a\n",
    "z = x-y\n",
    "y.show()"
   ]
  }
 ],
 "metadata": {
  "interpreter": {
   "hash": "d0191098407da1ae3f4864387be830e0c563858484fae33454707d5c4b3974f8"
  },
  "kernelspec": {
   "display_name": "Python 3.7.8 64-bit ('venv': venv)",
   "language": "python",
   "name": "python3"
  },
  "language_info": {
   "codemirror_mode": {
    "name": "ipython",
    "version": 3
   },
   "file_extension": ".py",
   "mimetype": "text/x-python",
   "name": "python",
   "nbconvert_exporter": "python",
   "pygments_lexer": "ipython3",
   "version": "3.7.8"
  },
  "orig_nbformat": 4
 },
 "nbformat": 4,
 "nbformat_minor": 2
}
